{
 "cells": [
  {
   "cell_type": "code",
   "execution_count": 112,
   "metadata": {},
   "outputs": [],
   "source": [
    "import scipy as sp\n",
    "import networkx as nx\n",
    "import numpy as np\n",
    "import pandas as pd\n",
    "\n",
    "path = 'F:\\\\ClemsonSemesters\\\\Fall2017\\\\CPSC8480-NetworkScience\\\\githubCode\\\\Network-Science\\\\Project\\\\Data\\\\Map_police_community.csv'\n",
    "policeData = pd.read_csv(path)\n",
    "G = nx.Graph()\n",
    "\n",
    "#print(policeData) #check to see the data"
   ]
  },
  {
   "cell_type": "code",
   "execution_count": 117,
   "metadata": {},
   "outputs": [
    {
     "name": "stdout",
     "output_type": "stream",
     "text": [
      "Name: \n",
      "Type: Graph\n",
      "Number of nodes: 88\n",
      "Number of edges: 75\n",
      "Average degree:   1.7045\n"
     ]
    }
   ],
   "source": [
    "#for correcting the string data of community\n",
    "def getCommNodes(comm):\n",
    "    #print(comm)\n",
    "    commNodes = list()\n",
    "    comm = comm.replace(\"(\",\"\")\n",
    "    comm = comm.replace(\")\",\"\")\n",
    "    comm = comm.replace(' ',\"\")\n",
    "    comm = comm.split(',')\n",
    "    #print(comm)\n",
    "    commNodes = commNodes + comm\n",
    "    return(commNodes)\n",
    "\n",
    "G.clear()\n",
    "\n",
    "polDistNodes = policeData['DISTRICT NAME'].unique()\n",
    "CommunNodes = policeData['Community'].unique()\n",
    "#tup = tuple(CommunNodes[0])\n",
    "\n",
    "#making police Nodes\n",
    "for pol in polDistNodes:\n",
    "    G.add_node(pol,color ='green')\n",
    "\n",
    "#print(G.nodes) #chcecking police distrcit Nodes\n",
    "#correcting community data\n",
    "commNodes = list()\n",
    "for comm in CommunNodes:\n",
    "    commNodes = commNodes + getCommNodes(comm)\n",
    "    \n",
    "#add CommNodes to Graph\n",
    "for comm in commNodes:\n",
    "    G.add_node(comm)\n",
    "\n",
    "#print(G.nodes)      #check Graph NOdes here\n",
    "\n",
    "#time to add edges\n",
    "for polStn in policeData.iterrows():\n",
    "    #print(polStn[1]['DISTRICT NAME'])\n",
    "    stn = polStn[1]['DISTRICT NAME']\n",
    "    inchargeCommunity = polStn[1]['Community']\n",
    "    inchargeCommunity = getCommNodes(inchargeCommunity)\n",
    "    #print(inchargeCommunity)\n",
    "    for cNode in inchargeCommunity:\n",
    "        G.add_edge(stn,cNode)\n",
    "\n",
    "\n",
    "#print(G.edges)   #Check Edges\n",
    "print(nx.info(G))"
   ]
  },
  {
   "cell_type": "code",
   "execution_count": 118,
   "metadata": {
    "collapsed": true
   },
   "outputs": [],
   "source": [
    "#Display the Graph\n",
    "nx.write_graphml(G,'new.graphml')"
   ]
  }
 ],
 "metadata": {
  "kernelspec": {
   "display_name": "Python 2",
   "language": "python",
   "name": "python2"
  },
  "language_info": {
   "codemirror_mode": {
    "name": "ipython",
    "version": 2
   },
   "file_extension": ".py",
   "mimetype": "text/x-python",
   "name": "python",
   "nbconvert_exporter": "python",
   "pygments_lexer": "ipython2",
   "version": "2.7.14"
  }
 },
 "nbformat": 4,
 "nbformat_minor": 2
}
